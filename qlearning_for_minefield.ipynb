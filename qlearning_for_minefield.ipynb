{
  "nbformat": 4,
  "nbformat_minor": 0,
  "metadata": {
    "colab": {
      "provenance": []
    },
    "kernelspec": {
      "name": "python3",
      "display_name": "Python 3"
    },
    "language_info": {
      "name": "python"
    }
  },
  "cells": [
    {
      "cell_type": "markdown",
      "source": [
        "**FINDING MINEFIELD PATH WITH Q-LEARNING**"
      ],
      "metadata": {
        "id": "VIBSYCNLU0Fk"
      }
    },
    {
      "cell_type": "code",
      "execution_count": 49,
      "metadata": {
        "id": "VMY9WO7HSlyC"
      },
      "outputs": [],
      "source": [
        "import numpy as np\n",
        "import seaborn as sns\n",
        "import pandas as pd\n",
        "from matplotlib import pyplot as plt"
      ]
    },
    {
      "cell_type": "markdown",
      "source": [
        "The purpose of this study is to find a path from a predefined base state to some reward state where passing through certain states in between lead to penalty. Set states are two dimensional 10 grids in X-axis and 5 grid in Y-axis. The purpose is to obtain a policy such that the agent will travel from the first state to the last by finding the shortest path and without passing through the forbidden states which are called minefields. This will be achieved through by giving the final state a positive value and penalizing minefield states."
      ],
      "metadata": {
        "id": "ryvPhrGxVML1"
      }
    },
    {
      "cell_type": "markdown",
      "source": [
        "* The agent will be treated as a class so that multiple agents can be created easily in case of a use of a grid search\n",
        "* The user can experiment with different learning rates $\\alpha$ although the problem is straightforward.\n",
        "* $\\lambda$ should be set to some value smaller than $1$ so that the policy is formed in regards to shortest path\n",
        "* $\\epsilon$ was set to $0.1$ as exploration is not neccessary\n",
        "* I only ran $10000$ which yielded to the optimal solution but one can track reward and number of episodes to see if the reward is converging"
      ],
      "metadata": {
        "id": "0fIdkBm0XhD7"
      }
    },
    {
      "cell_type": "code",
      "source": [
        "class agent():\n",
        "\n",
        "  def __init__(self,reward_matrix,start=(0,0),end=(-1,-1),epsilon=0.1,lambd=0.9,alpha=0.1):\n",
        "\n",
        "    self.start = start\n",
        "    self.end = end\n",
        "    self.current = self.start\n",
        "    self.epsilon = epsilon\n",
        "    self.lambd=lambd\n",
        "    self.alpha=alpha\n",
        "    self.reward_matrix = reward_matrix\n",
        "    self.length = reward_matrix.shape[0]\n",
        "    self.width = reward_matrix.shape[1]\n",
        "    self.qmatrix = np.zeros(shape=[4,self.length,self.width])\n",
        "    self.dir_dict = {0:\"up\",1:\"down\",2:\"right\",3:\"left\"}\n",
        "\n",
        "  def get_current(self):\n",
        "    return (self.current[0],self.current[1])\n",
        "\n",
        "  def get_end(self):\n",
        "    return (self.end[0],self.end[1])\n",
        "\n",
        "  def get_start(self):\n",
        "    return (self.start[0],self.start[1])\n",
        "\n",
        "  def set_current(self,current):\n",
        "    self.current = current\n",
        "\n",
        "  def navigate(self,action):\n",
        "\n",
        "    current_x = self.get_current()[0]\n",
        "    current_y = self.get_current()[1]\n",
        "\n",
        "    if action == \"up\":\n",
        "      current_y += 1\n",
        "    elif action == \"down\":\n",
        "      current_y -= 1\n",
        "    elif action == \"right\":\n",
        "      current_x += 1\n",
        "    elif action == \"left\":\n",
        "      current_x -= 1\n",
        "\n",
        "    self.current = (current_x,current_y)\n",
        "\n",
        "  def get_available_directions(self):\n",
        "\n",
        "    directions = list()\n",
        "    current_x = self.get_current()[0]\n",
        "    current_y = self.get_current()[1]\n",
        "\n",
        "    if current_y != self.length - 1:\n",
        "      directions.append(0)\n",
        "\n",
        "    if current_y != 0:\n",
        "      directions.append(1)\n",
        "\n",
        "    if current_x != self.width - 1:\n",
        "      directions.append(2)\n",
        "\n",
        "    if current_x != 0:\n",
        "      directions.append(3)\n",
        "\n",
        "    return directions\n",
        "\n",
        "  def update_qmatrix(self,alpha,lambd,old_x,old_y,action):\n",
        "\n",
        "    current_x = self.get_current()[0]\n",
        "    current_y = self.get_current()[1]\n",
        "    choice_list = self.get_available_directions()\n",
        "    old_qvalue = self.qmatrix[action,old_y,old_x]\n",
        "    max_next_qvalue = max(self.qmatrix[choice_list,current_y,current_x])\n",
        "    old_reward = self.reward_matrix[current_y,current_x]\n",
        "    self.qmatrix[action,old_y,old_x] = old_qvalue + alpha*(old_reward + lambd*max_next_qvalue-old_qvalue)\n",
        "\n",
        "    return old_reward\n",
        "\n",
        "\n",
        "  def epsilon_greedy(self):\n",
        "\n",
        "    rf_eps = np.random.uniform(0,1)\n",
        "    choice_list = self.get_available_directions()\n",
        "    current_x = self.get_current()[0]\n",
        "    current_y = self.get_current()[1]\n",
        "    nav_dict = self.dir_dict\n",
        "\n",
        "    if rf_eps > self.epsilon:\n",
        "\n",
        "      sel_it = np.argmax(self.qmatrix[choice_list,current_y,current_x])\n",
        "      sel_it = choice_list[sel_it]\n",
        "      self.navigate(nav_dict[sel_it])\n",
        "\n",
        "    else:\n",
        "\n",
        "      sel_it = np.random.choice(choice_list)\n",
        "      self.navigate(nav_dict[sel_it])\n",
        "\n",
        "    reward = self.update_qmatrix(alpha=self.alpha,lambd=self.lambd,old_x=current_x,old_y=current_y,action=sel_it)\n",
        "\n",
        "    return reward\n",
        "\n",
        "  def run_episode(self):\n",
        "\n",
        "    self.set_current(self.start)\n",
        "    cum_reward = 0\n",
        "    current_coord = self.get_current()\n",
        "    end_coord = self.get_end()\n",
        "    while current_coord != end_coord:\n",
        "      reward = agent_obj.epsilon_greedy()\n",
        "      current_coord = agent_obj.get_current()\n",
        "      cum_reward += reward\n",
        "\n",
        "    return cum_reward\n",
        "\n",
        "  def get_policy_matrix(self):\n",
        "    qs_image = np.zeros(shape=[agent_obj.length,agent_obj.width])\n",
        "    agent_obj.set_current(agent_obj.start)\n",
        "    while agent_obj.get_current() != agent_obj.get_end():\n",
        "      action_ind = np.argmax(agent_obj.qmatrix[:,agent_obj.get_current()[1],agent_obj.get_current()[0]])\n",
        "      action = agent_obj.dir_dict[action_ind]\n",
        "      qs_image[-1*(agent_obj.get_current()[1]+1),agent_obj.get_current()[0]] = agent_obj.qmatrix[action_ind,agent_obj.get_current()[1],agent_obj.get_current()[0]]\n",
        "      agent_obj.navigate(action)\n",
        "\n",
        "    return qs_image\n",
        "\n",
        "  def show_reward_matrix(self):\n",
        "    showm = np.where(self.reward_matrix == np.min(self.reward_matrix),0,0.5)\n",
        "    showm[-1,-1] = 1\n",
        "    showm = pd.DataFrame(showm).iloc[::-1,:].reset_index().drop(['index'],axis=1)\n",
        "    return showm\n",
        "\n",
        ""
      ],
      "metadata": {
        "id": "b8Sbmr9NSs-s"
      },
      "execution_count": 110,
      "outputs": []
    },
    {
      "cell_type": "code",
      "source": [
        "np.random.seed(14)\n",
        "rew_dims = [5,10]\n",
        "mine_pct = 0.3\n",
        "reward_matrix = np.where(np.random.uniform(0,1,np.product(rew_dims)) < mine_pct,-100,0).reshape(rew_dims)\n",
        "reward_matrix[rew_dims[0]-1,rew_dims[1]-1] = 1000\n",
        "reward_matrix"
      ],
      "metadata": {
        "colab": {
          "base_uri": "https://localhost:8080/"
        },
        "id": "C67ZpiO3ZGZH",
        "outputId": "99f70593-a524-4414-d4ae-f56ec119a893"
      },
      "execution_count": 130,
      "outputs": [
        {
          "output_type": "execute_result",
          "data": {
            "text/plain": [
              "array([[   0,    0,    0, -100,    0,    0,    0,    0,    0, -100],\n",
              "       [   0,    0,    0, -100,    0, -100,    0,    0,    0,    0],\n",
              "       [   0, -100,    0,    0,    0, -100,    0,    0, -100,    0],\n",
              "       [   0, -100,    0, -100,    0,    0,    0,    0,    0, -100],\n",
              "       [   0,    0,    0, -100,    0,    0, -100,    0,    0, 1000]])"
            ]
          },
          "metadata": {},
          "execution_count": 130
        }
      ]
    },
    {
      "cell_type": "code",
      "source": [
        "agent_obj = agent(reward_matrix,epsilon=0.1,end=(reward_matrix.shape[1]-1,reward_matrix.shape[0]-1))\n",
        "for i in range(10000):\n",
        "  agent_obj.run_episode()\n",
        "rm_show = agent_obj.show_reward_matrix()\n",
        "q_show = np.where(agent_obj.get_policy_matrix() > 0,0.5,0)\n",
        "q_show[0,-1] = 1\n",
        "q_show = pd.DataFrame(q_show).reset_index().drop(['index'],axis=1)\n",
        "q_label = np.select([rm_show == 0.5,rm_show == 0,rm_show == 1],[0,-100,1000])\n",
        "q_label = pd.DataFrame(q_label).reset_index().drop(['index'],axis=1)"
      ],
      "metadata": {
        "id": "zppWi79ycmfj"
      },
      "execution_count": 146,
      "outputs": []
    },
    {
      "cell_type": "markdown",
      "source": [
        "As one can realize, the starting state is $(4,0)$ and the purpose is to finish at $(0,9)$. The black states are minefields which yield to $-100$ reward so they are supposedly to be bypassed. As the policy graph illustrates, the minefields are bypassed and the reward was reached in a shortest path manner."
      ],
      "metadata": {
        "id": "22pkTEE7dg_j"
      }
    },
    {
      "cell_type": "code",
      "source": [
        "plt.axis('Off')\n",
        "plt.title(\"Mine Field Reward Graph\")\n",
        "plt.table(cellText=np.array(q_label), rowLabels=range(rm_show.shape[0]), colLabels=range(rm_show.shape[1]), loc='center',cellColours=plt.cm.hot(np.array(rm_show)))\n",
        "plt.show()\n",
        "plt.axis('Off')\n",
        "plt.title(\"Mine Field Shortest Policy Graph\")\n",
        "plt.table(cellText=np.array(q_label), rowLabels=range(q_show.shape[0]), colLabels=range(q_show.shape[1]), loc='center',cellColours=plt.cm.hot(np.array(q_show)))\n",
        "plt.show()"
      ],
      "metadata": {
        "colab": {
          "base_uri": "https://localhost:8080/",
          "height": 839
        },
        "id": "YQ_kbvJqV_02",
        "outputId": "51c1d739-3237-454d-c3c2-9a775ef6daa2"
      },
      "execution_count": 147,
      "outputs": [
        {
          "output_type": "display_data",
          "data": {
            "text/plain": [
              "<Figure size 640x480 with 1 Axes>"
            ],
            "image/png": "[encoded data removed]"
          },
          "metadata": {}
        },
        {
          "output_type": "display_data",
          "data": {
            "text/plain": [
              "<Figure size 640x480 with 1 Axes>"
            ],
            "image/png": "[encoded data removed]"
          },
          "metadata": {}
        }
      ]
    }
  ]
}